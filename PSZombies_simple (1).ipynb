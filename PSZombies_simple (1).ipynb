{
 "cells": [
  {
   "cell_type": "code",
   "execution_count": null,
   "metadata": {
    "collapsed": false
   },
   "outputs": [],
   "source": [
    "# -*- coding: utf-8 -*-\n",
    "\"\"\"\n",
    "HZR Model: Consul(pl)ants, Jumpstarts(Zombies) and the Engaged.\n",
    "The below script has been written with the purpose of modeling the rates at which Consultants, Jumpstarts and Engaged \n",
    "change over the span of a Professional Services \"Zombie\" apocalypse. These rates of change have been defined by the 3 ODEs given in the brief\n",
    "and defined in the function \"f\" below. None of the rates are based on actual extractions but are used for the purpose of demonstration. \n",
    "We could easily inject more meaningful measures of these rates by leveraging the Looker API. \n",
    "This script will also allow the inital values for each of these classes to be changed and therefore give the user the oppertunity to observe \n",
    "how changing these initial values will effect each class's outcome during the Professional Services Apocalypse. \n",
    "This model is a basic model which consists of only 3 classes: \n",
    "Consultants, Completed JS and Active Jumpstarts which are governed by the 3 ODEs\n",
    "    Consultants'=B*Hi-d*Hi-Bs*Hi*Zi # Formula for rate of change of Consultants\n",
    "    Active Jumpstarts'=Bs*Hi*Zi+g*Ri-a*Hi*Zi # Formula for rate of change of Jumpstarts\n",
    "    Completed Jumpstarts'=d*Hi+a*Hi*Zi-g*Ri # Formula for rate of change of Removed\n",
    "    \n",
    "This Script uses Scipy's ODEint function in order to solve the given equations with given initial values.\n",
    "The values on lines below can be edited in order to model a different beginning case(e.g. more or less zombies) \n",
    "\"\"\"\n",
    "from scipy.integrate import odeint\n",
    "import matplotlib.pyplot as plt\n",
    "import numpy as np\n",
    "import psycopg2 as psql\n",
    "\n",
    "#Set parameters. Rates are currently subjective and loosely approximated. We can solidify these by extracting \n",
    "#legitimate measures via Looker's API. \n",
    "B=0.0005#(sigma) The number of Consultants hired (per 1000 members per unit time).\n",
    "d=0.000001#(delta) The natural attrition rate of Consultants (per 1000 members per unit time).\n",
    "Bs=0.00004#(beta) The rate at which JS are assigned to Consultants (per 1000 members per unit time).\n",
    "nd=0.0001#(phi) The rate at which a new deal is signed\n",
    "g=0.00002#(gamma) The rate at which the completed class (completed JS) get reassigned as available consultant slots. (per 1000 members per unit time).\n",
    "a=0.00001#(alpha) The rate at which Consultants complete Jumpstarts (per 1000 members per unit time).\n",
    "\n",
    "\n",
    "#Defining function to implement given formula. y is an array made up of the initial values for each class as defined below\n",
    "def rates_of_change(y, t):\n",
    "    #Creates an array 'y' to store ODEs\n",
    "    Hi=y[0]\n",
    "    Zi=y[1]\n",
    "    Ri=y[2]\n",
    "    Ji=y[3]\n",
    "    \n",
    "    #Defining given formula from brief\n",
    "    f0=B*Hi-d*Hi-Bs*Hi*Zi+g*Ri # Formula for rate of change of available Consultant slots\n",
    "    f1=Bs*Hi*Zi+nd*Zi-a*Hi*Zi # Formula for rate of change of Active Jumpstarts (assigned)\n",
    "    f2=d*Hi+a*Hi*Zi-g*Ri # Formula for rate of change of Completed JS (engaged Consultant slots )\n",
    "    f3=nd*Ji-a*Zi # Formula for increase in Jumpstarts received by PS (whether assigned or not)\n",
    "    \n",
    "     #Returns each formula in an array 'y'\n",
    "    return[f0,f1,f2,f3]    \n",
    "\n",
    "#Initial values for each class\n",
    "Z0=1 #Active Jumpstarts at time 0 in thousands\n",
    "\n",
    "H0=300-Z0 #Consultants (slots of availability, 20 consultants, 15 slots each) at time 0 in thousands\n",
    "R0=0 #Completed at time 0 in thousands\n",
    "J0=1 #Total Jumpstarts at time 0 in thousands\n",
    "\n",
    "#Assigning inital values to y0 array\n",
    "y0=[H0,Z0,R0,J0]\n",
    "\n",
    "#Creating an array to define the time of simulation\n",
    "t = np.linspace(0,1000,1000)\n",
    "\n",
    "#Calls odeint function on array 'y'(defined in function rates_of_change)\n",
    "#function is called over a range of time t(defined above)\n",
    "ans = odeint(rates_of_change, y0, t)    \n",
    "\n",
    "#answers are saved to corrosponding array columns\n",
    "H = ans[:,0]\n",
    "Z = ans[:,1]\n",
    "R = ans[:,2]\n",
    "J = ans[:,3]\n",
    "\n",
    "#plotting results for all ODEs\n",
    "plt.figure()\n",
    "plt.plot(t, H, label='Available Consultant Slots')\n",
    "plt.plot(t, Z, label='Active Jumpstarts')\n",
    "plt.plot(t, R, label='Completed Jumpstarts')\n",
    "# plt.plot(t, J, label='Jumpstarts Total')\n",
    "\n",
    "plt.xlabel('Time')\n",
    "plt.ylabel('Population')\n",
    "plt.title('PS Apocalypse')\n",
    "plt.legend(loc=0)\n",
    "plt.show()"
   ]
  },
  {
   "cell_type": "code",
   "execution_count": 251,
   "metadata": {
    "collapsed": false
   },
   "outputs": [
    {
     "name": "stdout",
     "output_type": "stream",
     "text": [
      "1000\n"
     ]
    }
   ],
   "source": [
    "array_extract=[]\n",
    "array_dig=[]\n",
    "array = (lambda x: x for x in np.nditer(H[1]))\n",
    "\n",
    "for y in np.nditer(H[1]):\n",
    "    array_extract.append(y)\n",
    "\n",
    "array_list_H = H.tolist()\n",
    "array_list_Z = Z.tolist()\n",
    "array_list_R = R.tolist()\n"
   ]
  },
  {
   "cell_type": "code",
   "execution_count": 256,
   "metadata": {
    "collapsed": false
   },
   "outputs": [],
   "source": [
    "try:\n",
    "    conn = psql.connect(\"dbname='postgres' user='seanlugosi' host='localhost' password='academy123'\")\n",
    "except:\n",
    "    print \"Cannot Connect\""
   ]
  },
  {
   "cell_type": "code",
   "execution_count": 264,
   "metadata": {
    "collapsed": false
   },
   "outputs": [],
   "source": [
    "cur = conn.cursor()\n",
    "# cur.execute(\"DROP TABLE cons_zombs;\")\n",
    "cur.execute(\"CREATE TABLE IF NOT EXISTS cons_zombs (id serial PRIMARY KEY, cons real, act_js real, comp_js real);\")\n",
    "i = 0\n",
    "b = 0\n",
    "m = 0\n",
    "while (i < 1000):\n",
    "    test = cur.mogrify(\"INSERT INTO cons_zombs (cons,act_js,comp_js) VALUES (%s,%s,%s);\" % (array_list_H[i],array_list_Z[i],array_list_R[i]))\n",
    "    i+=1"
   ]
  },
  {
   "cell_type": "code",
   "execution_count": null,
   "metadata": {
    "collapsed": true
   },
   "outputs": [],
   "source": []
  }
 ],
 "metadata": {
  "kernelspec": {
   "display_name": "Python 2",
   "language": "python",
   "name": "python2"
  },
  "language_info": {
   "codemirror_mode": {
    "name": "ipython",
    "version": 2
   },
   "file_extension": ".py",
   "mimetype": "text/x-python",
   "name": "python",
   "nbconvert_exporter": "python",
   "pygments_lexer": "ipython2",
   "version": "2.7.10"
  }
 },
 "nbformat": 4,
 "nbformat_minor": 2
}
